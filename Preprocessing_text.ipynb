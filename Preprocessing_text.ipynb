{
  "nbformat": 4,
  "nbformat_minor": 0,
  "metadata": {
    "colab": {
      "provenance": [],
      "authorship_tag": "ABX9TyOP6Zb99fJe0ehexm+5RAEd",
      "include_colab_link": true
    },
    "kernelspec": {
      "name": "python3",
      "display_name": "Python 3"
    },
    "language_info": {
      "name": "python"
    }
  },
  "cells": [
    {
      "cell_type": "markdown",
      "metadata": {
        "id": "view-in-github",
        "colab_type": "text"
      },
      "source": [
        "<a href=\"https://colab.research.google.com/github/manjunath-hanmantgad/Natural-language-Processing/blob/development/Preprocessing_text.ipynb\" target=\"_parent\"><img src=\"https://colab.research.google.com/assets/colab-badge.svg\" alt=\"Open In Colab\"/></a>"
      ]
    },
    {
      "cell_type": "code",
      "execution_count": 1,
      "metadata": {
        "colab": {
          "base_uri": "https://localhost:8080/"
        },
        "id": "nCGbb5XzJ5c6",
        "outputId": "8bfe073f-29bf-4473-f0ad-6b532b4de339"
      },
      "outputs": [
        {
          "output_type": "execute_result",
          "data": {
            "text/plain": [
              "['I', 'am', 'a', 'comma', 'separated', 'string']"
            ]
          },
          "metadata": {},
          "execution_count": 1
        }
      ],
      "source": [
        "# string spliiting and joining\n",
        "s = 'I,am,a,comma,separated,string'\n",
        "s.split(',')"
      ]
    },
    {
      "cell_type": "code",
      "source": [
        "# now join\n",
        "s = ' '.join(s.split(','))\n",
        "s"
      ],
      "metadata": {
        "colab": {
          "base_uri": "https://localhost:8080/",
          "height": 35
        },
        "id": "I2Fg7zqQN2-i",
        "outputId": "cb405798-b5ba-4de2-ec02-bc0bb31d0669"
      },
      "execution_count": 4,
      "outputs": [
        {
          "output_type": "execute_result",
          "data": {
            "text/plain": [
              "'I am a comma separated string'"
            ],
            "application/vnd.google.colaboratory.intrinsic+json": {
              "type": "string"
            }
          },
          "metadata": {},
          "execution_count": 4
        }
      ]
    },
    {
      "cell_type": "markdown",
      "source": [
        "# Regular expressions\n",
        "\n",
        ". for matching a single character\n",
        "\n",
        "^ for matching the start of the string\n",
        "\n",
        "$ for matching the end of the string\n",
        "\n",
        "* for matching zero or more cases of the previous mentioned regex before the * symbol in the pattern\n",
        "\n",
        "? for matching zero or one case of the previous mentioned regex before the ? symbol in the pattern\n",
        "\n",
        "[...] for matching any one of the set of characters inside the square brackets\n",
        "\n",
        "[^...] for matching a character not present in the square brackets after the ^ symbol\n",
        "\n",
        "| denotes the OR operator for matching either the preceding or the next regex\n",
        "\n",
        "+ for matching one or more cases of the previous mentioned regex before the + symbol in the pattern\n",
        "\n",
        "\\d for matching decimal digits, which are also depicted as [0-9]\n",
        "\n",
        "\\D for matching non-digits, also depicted as [^0-9]\n",
        "\n",
        "\\s for matching whitespace characters\n",
        "\n",
        "\\S for matching non-whitespace characters\n",
        "\n",
        "\\w for matching alpha-numeric characters; also depicted as [a-zA-Z0-9_]\n",
        "\n",
        "\\W for matching non alpha-numeric characters; also depicted as [^a-zA-Z0-9_]"
      ],
      "metadata": {
        "id": "l_XB96KeOrAy"
      }
    },
    {
      "cell_type": "code",
      "source": [
        "import re\n",
        "import nltk\n",
        "s1 = 'Python is an excellent language'\n",
        "s2 = 'I love the Python language. I also use Python to build applications at work!'"
      ],
      "metadata": {
        "id": "x12WDh7-OSVR"
      },
      "execution_count": 6,
      "outputs": []
    },
    {
      "cell_type": "code",
      "source": [
        "pattern = 'python'\n",
        "re.match(pattern, s1) # but pattern is in lowercase\n",
        "re.match(pattern, s1, flags=re.IGNORECASE)"
      ],
      "metadata": {
        "colab": {
          "base_uri": "https://localhost:8080/"
        },
        "id": "bro8EVpCO8JZ",
        "outputId": "ce8d03e9-e7d3-4774-df03-8d4b457b0c80"
      },
      "execution_count": 9,
      "outputs": [
        {
          "output_type": "execute_result",
          "data": {
            "text/plain": [
              "<re.Match object; span=(0, 6), match='Python'>"
            ]
          },
          "metadata": {},
          "execution_count": 9
        }
      ]
    },
    {
      "cell_type": "code",
      "source": [
        "m = re.match(pattern , s1, flags=re.IGNORECASE)\n",
        "print('Found match {} ranging from index {} - {} in the string \"{}\"'.format(m.group(0), \n",
        "                                                                            m.start(), \n",
        "                                                                            m.end(), s1))"
      ],
      "metadata": {
        "colab": {
          "base_uri": "https://localhost:8080/"
        },
        "id": "vd41qJb3PDXC",
        "outputId": "56974438-cbc2-4e88-a8d2-9cca81c41b9b"
      },
      "execution_count": 10,
      "outputs": [
        {
          "output_type": "stream",
          "name": "stdout",
          "text": [
            "Found match Python ranging from index 0 - 6 in the string \"Python is an excellent language\"\n"
          ]
        }
      ]
    },
    {
      "cell_type": "markdown",
      "source": [
        "Removing HTML tags\n",
        "\n",
        "Tokenization\n",
        "\n",
        "Removing unnecessary tokens and stopwords\n",
        "\n",
        "Handling contractions\n",
        "\n",
        "Correcting spelling errors\n",
        "\n",
        "Stemming\n",
        "\n",
        "Lemmatization\n",
        "\n",
        "Tagging\n",
        "\n",
        "Chunking\n",
        "\n",
        "Parsing"
      ],
      "metadata": {
        "id": "OGnxwsFPQ2wj"
      }
    },
    {
      "cell_type": "code",
      "source": [
        "import requests \n",
        "data = requests.get('http://www.gutenberg.org/cache/epub/8001/pg8001.html')\n",
        "content = data.content\n",
        "content[1000:10005]"
      ],
      "metadata": {
        "colab": {
          "base_uri": "https://localhost:8080/"
        },
        "id": "yHEIey5eR-yb",
        "outputId": "fbb7c8b9-7268-4627-a631-9520c095e21e"
      },
      "execution_count": 12,
      "outputs": [
        {
          "output_type": "execute_result",
          "data": {
            "text/plain": [
              "b'****\\r\\n * set the indention, spacing, and leading for body paragraphs.\\r\\n * ********************************************************************** */\\r\\np {\\r\\n    /* all paragraphs unless overridden */\\r\\n    margin-top: 1em;\\r\\n    /* inter-paragraph space */\\r\\n    margin-bottom: 0;\\r\\n    /* use only top-margin for spacing */\\r\\n    line-height: 1.4em;\\r\\n    /* interline spacing (\"leading\") */\\r\\n    }\\r\\nbody > p {\\r\\n    /* paras at <body> level - not in <div> or <table>  */\\r\\n    text-align: justify;\\r\\n    /* or left?? */\\r\\n    text-indent: 1em;\\r\\n    /* first-line indent */\\r\\n    }\\r\\n/* suppress indentation on paragraphs following heads  */\\r\\nh2 + p, h3 + p, h4 + p {\\r\\n    text-indent: 0\\r\\n    }\\r\\n/* tighter spacing for list item paragraphs */\\r\\ndd, li {\\r\\n    margin-top: 0.25em;\\r\\n    margin-bottom: 0;\\r\\n    line-height: 1.2em;\\r\\n    /* a bit closer than p\\'s */\\r\\n    }\\r\\n/* ************************************************************************\\r\\n * Head 2 is for chapter heads. \\r\\n * ********************************************************************** */\\r\\nh2 {\\r\\n    /* text-align:center;  left-aligned by default. */\\r\\n    margin-top: 3em;\\r\\n    /* extra space above.. */\\r\\n    margin-bottom: 2em;\\r\\n    /* ..and below */\\r\\n    clear: both;\\r\\n    /* don\\'t let sidebars overlap */\\r\\n    }\\r\\n/* ************************************************************************\\r\\n * Head 3 is for main-topic heads.\\r\\n * ********************************************************************** */\\r\\nh3 {\\r\\n    /* text-align:center;  left-aligned by default. */\\r\\n    margin-top: 2em;\\r\\n    /* extra space above but not below */\\r\\n    font-weight: normal;\\r\\n    /* override default of bold */\\r\\n    clear: both;\\r\\n    /* don\\'t let sidebars overlap */\\r\\n    }\\r\\n/* ************************************************************************\\r\\n * Styling the default HR and some special-purpose ones.\\r\\n * Default rule centered and clear of floats; sized for thought-breaks\\r\\n * ********************************************************************** */\\r\\nhr {\\r\\n    width: 45%;\\r\\n    /* adjust to ape original work */\\r\\n    margin-top: 1em;\\r\\n    /* space above & below */\\r\\n    margin-bottom: 1em;\\r\\n    margin-left: auto;\\r\\n    /* these two ensure a.. */\\r\\n    margin-right: auto;\\r\\n    /* ..centered rule */\\r\\n    clear: both;\\r\\n    /* don\\'t let sidebars & floats overlap rule */\\r\\n    }\\r\\n/* ************************************************************************\\r\\n * Images and captions\\r\\n * ********************************************************************** */\\r\\nimg {\\r\\n    /* the default inline image has */\\r\\n    border: 1px solid black;\\r\\n    /* a thin black line border.. */\\r\\n    padding: 6px;\\r\\n    /* ..spaced a bit out from the graphic */\\r\\n    }</style><link rel=\"schema.dc\" href=\"http://purl.org/dc/elements/1.1/\">\\r\\n<link rel=\"schema.dcterms\" href=\"http://purl.org/dc/terms/\">\\r\\n<meta name=\"dc.title\" content=\"The Bible, King James version, Book 1: Genesis\">\\r\\n<meta name=\"dc.language\" content=\"en\">\\r\\n<meta name=\"dcterms.source\" content=\"https://www.gutenberg.org/files/8001/8001.txt\">\\r\\n<meta name=\"dcterms.modified\" content=\"2023-02-04T11:09:27.502780+00:00\">\\r\\n<meta name=\"dc.rights\" content=\"Public domain in the USA.\">\\r\\n<link rel=\"dcterms.isFormatOf\" href=\"http://www.gutenberg.org/ebooks/8001\">\\r\\n<meta name=\"dc.creator\" content=\"Anonymous\">\\r\\n<meta name=\"dc.subject\" content=\"Bible. Genesis\">\\r\\n<meta name=\"dcterms.created\" content=\"2005-04-01\">\\r\\n<meta name=\"generator\" content=\"Ebookmaker 0.12.25 by Project Gutenberg\">\\r\\n<meta property=\"og:title\" content=\"The Bible, King James version, Book 1: Genesis\">\\r\\n<meta property=\"og:type\" content=\"Text\">\\r\\n<meta property=\"og:url\" content=\"https://www.gutenberg.org/ebooks/8001/pg8001.html.utf8\">\\r\\n<meta property=\"og:image\" content=\"https://www.gutenberg.org/ebooks/8001/pg8001.cover.medium.jpg\">\\r\\n</head><body><section class=\"pg-boilerplate pgheader\" id=\"pg-header\" lang=\"en\">\\r\\n    <h2 style=\"text-align:center; font-size:1.2em; font-weight:bold\">The Project Gutenberg eBook of <span lang=\"en\">The Bible, King James version, Book 1: Genesis</span>, by Anonymous</h2>\\r\\n    <div style=\"display:block; margin:1em 0\">\\r\\nThis ebook is for the use of anyone anywhere in the United States and most other parts of the world at no cost and with almost no restrictions whatsoever. You may copy it, give it away or re-use it under the terms of the Project Gutenberg License included with this ebook or online at <a class=\"reference external\" href=\"https://www.gutenberg.org\">www.gutenberg.org</a>. If you are not located in the United States, you\\xe2\\x80\\x99ll have to check the laws of the country where you are located before using this eBook.</div>\\r\\n\\r\\n    <div class=\"container\" id=\"pg-machine-header\">\\r\\n        <p style=\"display:block; margin-top:1em; margin-bottom:1em; margin-left:2em; text-indent:-2em\"><strong>Title</strong>: The Bible, King James version, Book 1: Genesis</p>\\r\\n        \\r\\n        <p style=\"display:block; margin-top:1em; margin-bottom:1em; margin-left:2em; text-indent:-2em\"><strong>Author</strong>: Anonymous</p>\\r\\n\\r\\n        <p style=\"display:block; margin-top:1em; margin-bottom:1em; margin-left:2em; text-indent:-2em\"><strong>Release Date</strong>: April 1, 2005 [EBook #8001]</p>\\r\\n        <p style=\"display:block; margin-top:1em; margin-bottom:1em; margin-left:2em; text-indent:-2em\"><strong>Language</strong>: English</p>\\r\\n        \\r\\n        \\r\\n    </div>\\r\\n    <div class=\"vspace\" style=\"height: 2em\"><br></div>\\r\\n        <div style=\"text-align:center\">\\r\\n            <span>*** START OF THE PROJECT GUTENBERG EBOOK THE BIBLE, KING JAMES VERSION, BOOK 1: GENESIS ***</span>\\r\\n        </div>\\r\\n</section><p id=\"id00000\">This eBook was produced by David Widger</p>\\r\\n\\r\\n<p id=\"id00001\" style=\"margin-top: 4em\">with the help of Derek Andrew\\'s text from January 1992\\r\\nand the work of Bryan Taylor in November 2002.</p>\\r\\n\\r\\n<h1 id=\"id00002\" style=\"margin-top: 5em\">Book 01        Genesis</h1>\\r\\n\\r\\n<p id=\"id00003\">01:001:001 In the beginning God created the heaven and the earth.</p>\\r\\n\\r\\n<p id=\"id00004\" style=\"margin-left: 0%; margin-right: 0%\">01:001:002 And the earth was without form, and void; and darkness was\\r\\n           upon the face of the deep. And the Spirit of God moved upon\\r\\n           the face of the waters.</p>\\r\\n\\r\\n<p id=\"id00005\">01:001:003 And God said, Let there be light: and there was light.</p>\\r\\n\\r\\n<p id=\"id00006\">01:001:004 And God saw the light, that it was good: and God divided the<br>\\r\\n\\r\\n\\xc2\\xa0\\xc2\\xa0\\xc2\\xa0\\xc2\\xa0\\xc2\\xa0\\xc2\\xa0\\xc2\\xa0\\xc2\\xa0\\xc2\\xa0\\xc2\\xa0\\xc2\\xa0light from the darkness.<br>\\r\\n</p>\\r\\n\\r\\n<p id=\"id00007\">01:001:005 And God called the light Day, and the darkness he called<br>\\r\\n\\r\\n\\xc2\\xa0\\xc2\\xa0\\xc2\\xa0\\xc2\\xa0\\xc2\\xa0\\xc2\\xa0\\xc2\\xa0\\xc2\\xa0\\xc2\\xa0\\xc2\\xa0\\xc2\\xa0Night. And the evening and the morning were the first day.<br>\\r\\n</p>\\r\\n\\r\\n<p id=\"id00008\">01:001:006 And God said, Let there be a firmament in the midst of the<br>\\r\\n\\r\\n\\xc2\\xa0\\xc2\\xa0\\xc2\\xa0\\xc2\\xa0\\xc2\\xa0\\xc2\\xa0\\xc2\\xa0\\xc2\\xa0\\xc2\\xa0\\xc2\\xa0\\xc2\\xa0waters, and let it divide the waters from the waters.<br>\\r\\n</p>\\r\\n\\r\\n<p id=\"id00009\" style=\"margin-left: 0%; margin-right: 0%\">01:001:007 And God made the firmament, and divided the waters which were\\r\\n           under the firmament from the waters which were above the\\r\\n           firmament: and it was so.</p>\\r\\n\\r\\n<p id=\"id00010\" style=\"margin-left: 0%; margin-right: 0%\">01:001:008 And God called the firmament Heaven. And the evening and the\\r\\n           morning were the second day.</p>\\r\\n\\r\\n<p id=\"id00011\" style=\"margin-left: 0%; margin-right: 0%\">01:001:009 And God said, Let the waters under the heaven be gathered\\r\\n           together unto one place, and let the dry land appear: and it\\r\\n           was so.</p>\\r\\n\\r\\n<p id=\"id00012\" style=\"margin-left: 0%; margin-right: 0%\">01:001:010 And God called the dry land Earth; and the gathering together\\r\\n           of the waters called he Seas: and God saw that it was good.</p>\\r\\n\\r\\n<p id=\"id00013\">01:001:011 And God said, Let the earth bring forth grass, the herb<br>\\r\\n\\r\\n\\xc2\\xa0\\xc2\\xa0\\xc2\\xa0\\xc2\\xa0\\xc2\\xa0\\xc2\\xa0\\xc2\\xa0\\xc2\\xa0\\xc2\\xa0\\xc2\\xa0\\xc2\\xa0yielding seed, and the fruit tree yielding fruit after his<br>\\r\\n\\r\\n\\xc2\\xa0\\xc2\\xa0\\xc2\\xa0\\xc2\\xa0\\xc2\\xa0\\xc2\\xa0\\xc2\\xa0\\xc2\\xa0\\xc2\\xa0\\xc2\\xa0\\xc2\\xa0kind, whose seed is in itself, upon the earth: and it was so.<br>\\r\\n</p>\\r\\n\\r\\n<p id=\"id00014\">01:001:012 And the earth brought forth grass, and herb yielding seed<br>\\r\\n\\r\\n\\xc2\\xa0\\xc2\\xa0\\xc2\\xa0\\xc2\\xa0\\xc2\\xa0\\xc2\\xa0\\xc2\\xa0\\xc2\\xa0\\xc2\\xa0\\xc2\\xa0\\xc2\\xa0after his kind, and the tree yielding fruit, whose seed was in<br>\\r\\n\\r\\n\\xc2\\xa0\\xc2\\xa0\\xc2\\xa0\\xc2\\xa0\\xc2\\xa0\\xc2\\xa0\\xc2\\xa0\\xc2\\xa0\\xc2\\xa0\\xc2\\xa0\\xc2\\xa0itself, after his kind: and God saw that it was good.<br>\\r\\n</p>\\r\\n\\r\\n<p id=\"id00015\">01:001:013 And the evening and the morning were the third day.</p>\\r\\n\\r\\n<p id=\"id00016\" style=\"margin-left: 0%; margin-right: 0%\">01:001:014 And God said, Let there be lights in the firmament of the\\r\\n           heaven to divide the day from the night; and let them be for\\r\\n           signs, and for seasons, and for days, and years:</p>\\r\\n\\r\\n<p id=\"id00017\" style=\"margin-left: 0%; margin-right: 0%\">01:001:015 And let them be for lights in the firmament of the heaven to\\r\\n           give light upon the earth: and it was so.</p>\\r\\n\\r\\n<p id=\"id00018\" style=\"margin-left: 0%; margin-right: 0%\">01:001:016 And God made two great lights; the greater light to rule the\\r\\n           day, and the lesser light to rule the night: he made the stars\\r\\n           also.</p>\\r\\n\\r\\n<p id='"
            ]
          },
          "metadata": {},
          "execution_count": 12
        }
      ]
    },
    {
      "cell_type": "code",
      "source": [
        "# using beautifulsoup library to remove html tags \n",
        "import re\n",
        "from bs4 import BeautifulSoup\n",
        "\n",
        "def strip_html_tags(text):\n",
        "  soup = BeautifulSoup(text, \"html.parser\")\n",
        "  [s.extract() for s in soup(['iframe', 'script'])]\n",
        "  stripped_text = soup.get_text()\n",
        "  stripped_text = re.sub(r'[\\r|\\n|\\r\\n]+', '\\n', stripped_text)\n",
        "  return stripped_text\n",
        "\n",
        "# apply the function\n",
        "clean_content = strip_html_tags(content)\n",
        "print(clean_content[1000:10005])"
      ],
      "metadata": {
        "colab": {
          "base_uri": "https://localhost:8080/"
        },
        "id": "mCXw782dSIT6",
        "outputId": "c2b30b82-3178-4607-8a2f-f367d2a3a332"
      },
      "execution_count": 14,
      "outputs": [
        {
          "output_type": "stream",
          "name": "stdout",
          "text": [
            "************************** */\n",
            "p {\n",
            "    /* all paragraphs unless overridden */\n",
            "    margin-top: 1em;\n",
            "    /* inter-paragraph space */\n",
            "    margin-bottom: 0;\n",
            "    /* use only top-margin for spacing */\n",
            "    line-height: 1.4em;\n",
            "    /* interline spacing (\"leading\") */\n",
            "    }\n",
            "body > p {\n",
            "    /* paras at <body> level - not in <div> or <table>  */\n",
            "    text-align: justify;\n",
            "    /* or left?? */\n",
            "    text-indent: 1em;\n",
            "    /* first-line indent */\n",
            "    }\n",
            "/* suppress indentation on paragraphs following heads  */\n",
            "h2 + p, h3 + p, h4 + p {\n",
            "    text-indent: 0\n",
            "    }\n",
            "/* tighter spacing for list item paragraphs */\n",
            "dd, li {\n",
            "    margin-top: 0.25em;\n",
            "    margin-bottom: 0;\n",
            "    line-height: 1.2em;\n",
            "    /* a bit closer than p's */\n",
            "    }\n",
            "/* ************************************************************************\n",
            " * Head 2 is for chapter heads. \n",
            " * ********************************************************************** */\n",
            "h2 {\n",
            "    /* text-align:center;  left-aligned by default. */\n",
            "    margin-top: 3em;\n",
            "    /* extra space above.. */\n",
            "    margin-bottom: 2em;\n",
            "    /* ..and below */\n",
            "    clear: both;\n",
            "    /* don't let sidebars overlap */\n",
            "    }\n",
            "/* ************************************************************************\n",
            " * Head 3 is for main-topic heads.\n",
            " * ********************************************************************** */\n",
            "h3 {\n",
            "    /* text-align:center;  left-aligned by default. */\n",
            "    margin-top: 2em;\n",
            "    /* extra space above but not below */\n",
            "    font-weight: normal;\n",
            "    /* override default of bold */\n",
            "    clear: both;\n",
            "    /* don't let sidebars overlap */\n",
            "    }\n",
            "/* ************************************************************************\n",
            " * Styling the default HR and some special-purpose ones.\n",
            " * Default rule centered and clear of floats; sized for thought-breaks\n",
            " * ********************************************************************** */\n",
            "hr {\n",
            "    width: 45%;\n",
            "    /* adjust to ape original work */\n",
            "    margin-top: 1em;\n",
            "    /* space above & below */\n",
            "    margin-bottom: 1em;\n",
            "    margin-left: auto;\n",
            "    /* these two ensure a.. */\n",
            "    margin-right: auto;\n",
            "    /* ..centered rule */\n",
            "    clear: both;\n",
            "    /* don't let sidebars & floats overlap rule */\n",
            "    }\n",
            "/* ************************************************************************\n",
            " * Images and captions\n",
            " * ********************************************************************** */\n",
            "img {\n",
            "    /* the default inline image has */\n",
            "    border: 1px solid black;\n",
            "    /* a thin black line border.. */\n",
            "    padding: 6px;\n",
            "    /* ..spaced a bit out from the graphic */\n",
            "    }\n",
            "The Project Gutenberg eBook of The Bible, King James version, Book 1: Genesis, by Anonymous\n",
            "This ebook is for the use of anyone anywhere in the United States and most other parts of the world at no cost and with almost no restrictions whatsoever. You may copy it, give it away or re-use it under the terms of the Project Gutenberg License included with this ebook or online at www.gutenberg.org. If you are not located in the United States, you’ll have to check the laws of the country where you are located before using this eBook.\n",
            "Title: The Bible, King James version, Book 1: Genesis\n",
            "Author: Anonymous\n",
            "Release Date: April 1, 2005 [EBook #8001]\n",
            "Language: English\n",
            "*** START OF THE PROJECT GUTENBERG EBOOK THE BIBLE, KING JAMES VERSION, BOOK 1: GENESIS ***\n",
            "This eBook was produced by David Widger\n",
            "with the help of Derek Andrew's text from January 1992\n",
            "and the work of Bryan Taylor in November 2002.\n",
            "Book 01        Genesis\n",
            "01:001:001 In the beginning God created the heaven and the earth.\n",
            "01:001:002 And the earth was without form, and void; and darkness was\n",
            "           upon the face of the deep. And the Spirit of God moved upon\n",
            "           the face of the waters.\n",
            "01:001:003 And God said, Let there be light: and there was light.\n",
            "01:001:004 And God saw the light, that it was good: and God divided the\n",
            "           light from the darkness.\n",
            "01:001:005 And God called the light Day, and the darkness he called\n",
            "           Night. And the evening and the morning were the first day.\n",
            "01:001:006 And God said, Let there be a firmament in the midst of the\n",
            "           waters, and let it divide the waters from the waters.\n",
            "01:001:007 And God made the firmament, and divided the waters which were\n",
            "           under the firmament from the waters which were above the\n",
            "           firmament: and it was so.\n",
            "01:001:008 And God called the firmament Heaven. And the evening and the\n",
            "           morning were the second day.\n",
            "01:001:009 And God said, Let the waters under the heaven be gathered\n",
            "           together unto one place, and let the dry land appear: and it\n",
            "           was so.\n",
            "01:001:010 And God called the dry land Earth; and the gathering together\n",
            "           of the waters called he Seas: and God saw that it was good.\n",
            "01:001:011 And God said, Let the earth bring forth grass, the herb\n",
            "           yielding seed, and the fruit tree yielding fruit after his\n",
            "           kind, whose seed is in itself, upon the earth: and it was so.\n",
            "01:001:012 And the earth brought forth grass, and herb yielding seed\n",
            "           after his kind, and the tree yielding fruit, whose seed was in\n",
            "           itself, after his kind: and God saw that it was good.\n",
            "01:001:013 And the evening and the morning were the third day.\n",
            "01:001:014 And God said, Let there be lights in the firmament of the\n",
            "           heaven to divide the day from the night; and let them be for\n",
            "           signs, and for seasons, and for days, and years:\n",
            "01:001:015 And let them be for lights in the firmament of the heaven to\n",
            "           give light upon the earth: and it was so.\n",
            "01:001:016 And God made two great lights; the greater light to rule the\n",
            "           day, and the lesser light to rule the night: he made the stars\n",
            "           also.\n",
            "01:001:017 And God set them in the firmament of the heaven to give light\n",
            "           upon the earth,\n",
            "01:001:018 And to rule over the day and over the night, and to divide the\n",
            "           light from the darkness: and God saw that it was good.\n",
            "01:001:019 And the evening and the morning were the fourth day.\n",
            "01:001:020 And God said, Let the waters bring forth abundantly the moving\n",
            "           creature that hath life, and fowl that may fly above the earth\n",
            "           in the open firmament of heaven.\n",
            "01:001:021 And God created great whales, and every living creature that\n",
            "           moveth, which the waters brought forth abundantly, after their\n",
            "           kind, and every winged fowl after his kind: and God saw that\n",
            "           it was good.\n",
            "01:001:022 And God blessed them, saying, Be fruitful, and multiply, and\n",
            "           fill the waters in the seas, and let fowl multiply in the\n",
            "           earth.\n",
            "01:001:023 And the evening and the morning were the fifth day.\n",
            "01:001:024 And God said, Let the earth bring forth the living creature\n",
            "           after his kind, cattle, and creeping thing, and beast of the\n",
            "           earth after his kind: and it was so.\n",
            "01:001:025 And God made the beast of the earth after his kind, and cattle\n",
            "           after their kind, and every thing that creepeth upon the earth\n",
            "           after his kind: and God saw that it was good.\n",
            "01:001:026 And God said, Let us make man in our image, after our\n",
            "           likeness: and let them have dominion over the fish of the sea,\n",
            "           and over the fowl of the air, and over the cattle, and over\n",
            "           all the earth, and over every creeping thing that creepeth\n",
            "           upon the earth.\n",
            "01:001:027 So God created man in his own image, in the image of God\n",
            "           created he him; male and female created he them.\n",
            "01:001:028 And God blessed them, and God said unto them, Be fruitful, and\n",
            "           multiply, and replenish the earth, and subdue it: and have\n",
            "           dominion over the fish of the sea, and over the fowl of the\n",
            "           air, and over every living thing that moveth upon the earth.\n",
            "01:001:029 And God said, Behold, I have given you every herb bearing\n",
            "           seed, which is upon the face of all the earth, and every tree,\n",
            "           in the which is the fruit of a tree yielding seed; to you it\n",
            "           shall be for meat.\n",
            "01:001:030 And to every beast of the earth, and to every fowl of the air,\n",
            "           and to every thing that creepeth upon the earth, wherein there\n",
            "           is life, I have given every green herb for meat: and it was\n",
            "           so.\n",
            "01:001:031 And God saw every thing that he had made, and, behold, it was\n",
            "           very good. And the evening and the morning were the sixth day.\n",
            "01:002:001 Thus the heavens and the earth were finished, and all the host\n",
            "           of them.\n",
            "01:002:002 And on the seventh day God ended his work which he had made;\n",
            "           and he rested on the seventh day from all his work which he\n",
            "           had made.\n",
            "01:002:003 And God blessed the seventh day, and sanctified it: because\n",
            "           that in it he had rested from all his work which God created\n",
            "           and made.\n",
            "01:002:004 These are the generations of the heavens and of the earth when\n",
            "           they were created, in the day that the LORD God made the earth\n",
            "           and the heavens,\n",
            "01:002:005 And every plant of the fie\n"
          ]
        }
      ]
    },
    {
      "cell_type": "markdown",
      "source": [
        "### Text tokenization"
      ],
      "metadata": {
        "id": "v6WCr5NITJkB"
      }
    },
    {
      "cell_type": "code",
      "source": [],
      "metadata": {
        "id": "n5c1Rh7jS3jL"
      },
      "execution_count": null,
      "outputs": []
    }
  ]
}